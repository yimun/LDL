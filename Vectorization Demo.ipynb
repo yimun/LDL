{
 "cells": [
  {
   "cell_type": "code",
   "execution_count": 15,
   "metadata": {},
   "outputs": [
    {
     "name": "stdout",
     "output_type": "stream",
     "text": [
      "[1 2 3 4]\n"
     ]
    }
   ],
   "source": [
    "import numpy as np\n",
    "\n",
    "a = np.array([1, 2, 3, 4])\n",
    "print(a)"
   ]
  },
  {
   "cell_type": "markdown",
   "metadata": {},
   "source": [
    "## Compare Vectorization and for-loop"
   ]
  },
  {
   "cell_type": "code",
   "execution_count": 14,
   "metadata": {},
   "outputs": [
    {
     "name": "stdout",
     "output_type": "stream",
     "text": [
      "250241.103495\n",
      "Vectorized time cost:25.49910545349121ms\n",
      "250241.103495\n",
      "for loop time cost:475.3148555755615ms\n"
     ]
    }
   ],
   "source": [
    "import time\n",
    "\n",
    "ts = time.time()\n",
    "a = np.random.rand(1000000)\n",
    "b = np.random.rand(1000000)\n",
    "c = np.dot(a, b)\n",
    "print(c)\n",
    "te = time.time()\n",
    "print('Vectorized time cost:' + str(1000 * (te - ts)) + 'ms')\n",
    "\n",
    "c = 0\n",
    "ts = time.time()\n",
    "for i in range(1000000):\n",
    "    c += a[i] * b[i]\n",
    "te = time.time()\n",
    "print(c)\n",
    "print('for loop time cost:' + str(1000 * (te - ts)) + 'ms')"
   ]
  },
  {
   "cell_type": "code",
   "execution_count": null,
   "metadata": {
    "collapsed": true
   },
   "outputs": [],
   "source": []
  }
 ],
 "metadata": {
  "kernelspec": {
   "display_name": "Python 3",
   "language": "python",
   "name": "python3"
  },
  "language_info": {
   "codemirror_mode": {
    "name": "ipython",
    "version": 3
   },
   "file_extension": ".py",
   "mimetype": "text/x-python",
   "name": "python",
   "nbconvert_exporter": "python",
   "pygments_lexer": "ipython3",
   "version": "3.6.1"
  }
 },
 "nbformat": 4,
 "nbformat_minor": 2
}
